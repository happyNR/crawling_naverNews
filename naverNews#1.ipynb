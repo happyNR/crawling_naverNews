{
 "cells": [
  {
   "cell_type": "markdown",
   "metadata": {},
   "source": [
    "# 네이버 뉴스 제목, 날짜, url 크롤링"
   ]
  },
  {
   "cell_type": "code",
   "execution_count": 1,
   "metadata": {},
   "outputs": [],
   "source": [
    "from bs4 import BeautifulSoup\n",
    "from datetime import datetime\n",
    "import urllib.parse\n",
    "import requests\n",
    "import pandas as pd\n",
    "import re"
   ]
  },
  {
   "cell_type": "code",
   "execution_count": 2,
   "metadata": {},
   "outputs": [],
   "source": [
    "title_text=[]\n",
    "link_text=[]\n",
    "date_text=[]\n",
    "result={}\n",
    "\n",
    "now = datetime.now() #파일이름 현 시간으로 저장하기\n",
    "        \n",
    "def crawler(maxpage,query):\n",
    "    page = 0\n",
    "    maxpage_t =(int(maxpage))*20+1   # 21= 2페이지 41=3페이지\n",
    "    \n",
    "    while page <= maxpage_t:\n",
    "        url = \"https://www.clien.net/service/search?q=\" + urllib.parse.quote_plus(query) + \"&sort=recency&p=\" + str(page) +\"&boardCd=&isBoard=false\"\n",
    "        \n",
    "        response = requests.get(url)\n",
    "        html = response.text\n",
    " \n",
    "        #뷰티풀소프의 인자값 지정\n",
    "        soup = BeautifulSoup(html, 'html.parser')\n",
    " \n",
    "        #<a>태그에서 제목과 링크주소 추출\n",
    "        atags = soup.select('.subject_fixed')\n",
    "        for atag in atags:\n",
    "            title_text.append(atag.text)     #제목\n",
    "            link_text.append(atag['href'])   #링크주소\n",
    "\n",
    "        \n",
    "        #날짜 추출 \n",
    "        date_lists = soup.select('.time.popover')\n",
    "        for date_list in date_lists:\n",
    "            date_text.append(date_list.text[5:15])\n",
    "        page += 20\n",
    "        \n",
    "    #모든 리스트 딕셔너리형태로 저장\n",
    "    result= {\"date\" : date_text , \"title\" : title_text, \"link\" : link_text }  \n",
    "    df = pd.DataFrame(result)  #df로 변환\n",
    "\n",
    "    # 새로 만들 파일이름 지정\n",
    "    outputFileName = '%s-%s-%s  %s시 %s분 %s초 merging.xlsx' % (now.year, now.month, now.day, now.hour, now.minute, now.second)\n",
    "    df.to_excel('./'+ outputFileName, sheet_name='sheet1')   \n",
    "\n",
    "def main():\n",
    "    info_main = input(\"=\"*50+\"\\n\"+\"입력 형식에 맞게 입력해주세요.\"+\"\\n\"+\" 시작하시려면 Enter를 눌러주세요.\"+\"\\n\"+\"=\"*50)\n",
    "    maxpage = input(\"최대 크롤링할 페이지 수 입력하시오: \")  \n",
    "    query = input(\"검색어 입력: \")  \n",
    "    \n",
    "    crawler(maxpage, query) \n",
    "    "
   ]
  },
  {
   "cell_type": "code",
   "execution_count": 3,
   "metadata": {
    "scrolled": false
   },
   "outputs": [
    {
     "name": "stdout",
     "output_type": "stream",
     "text": [
      "==================================================\n",
      "입력 형식에 맞게 입력해주세요.\n",
      " 시작하시려면 Enter를 눌러주세요.\n",
      "==================================================\n",
      "최대 크롤링할 페이지 수 입력하시오: 5\n",
      "검색어 입력: 코로나\n"
     ]
    }
   ],
   "source": [
    "main()"
   ]
  },
  {
   "cell_type": "code",
   "execution_count": 4,
   "metadata": {},
   "outputs": [
    {
     "data": {
      "text/html": [
       "<div>\n",
       "<style scoped>\n",
       "    .dataframe tbody tr th:only-of-type {\n",
       "        vertical-align: middle;\n",
       "    }\n",
       "\n",
       "    .dataframe tbody tr th {\n",
       "        vertical-align: top;\n",
       "    }\n",
       "\n",
       "    .dataframe thead th {\n",
       "        text-align: right;\n",
       "    }\n",
       "</style>\n",
       "<table border=\"1\" class=\"dataframe\">\n",
       "  <thead>\n",
       "    <tr style=\"text-align: right;\">\n",
       "      <th></th>\n",
       "      <th>date</th>\n",
       "      <th>link</th>\n",
       "      <th>title</th>\n",
       "    </tr>\n",
       "  </thead>\n",
       "  <tbody>\n",
       "    <tr>\n",
       "      <th>0</th>\n",
       "      <td>2020-04-21</td>\n",
       "      <td>/service/board/park/14885680?combine=true&amp;q=%E...</td>\n",
       "      <td>트럼프'원유 하락세는 아주 단기적인 것이다'</td>\n",
       "    </tr>\n",
       "    <tr>\n",
       "      <th>1</th>\n",
       "      <td>2020-04-21</td>\n",
       "      <td>/service/board/park/14885678?combine=true&amp;q=%E...</td>\n",
       "      <td>인니 대통령, 문대통령에 '총선 승리 축하. 코로나19 경험 전수 희망'</td>\n",
       "    </tr>\n",
       "    <tr>\n",
       "      <th>2</th>\n",
       "      <td>2020-04-21</td>\n",
       "      <td>/service/board/park/14885671?combine=true&amp;q=%E...</td>\n",
       "      <td>???: 야당도 사람인데... ?!</td>\n",
       "    </tr>\n",
       "    <tr>\n",
       "      <th>3</th>\n",
       "      <td>2020-04-21</td>\n",
       "      <td>/service/board/park/14885657?combine=true&amp;q=%E...</td>\n",
       "      <td>'S&amp;P, 韓 국가신용등급 'AA' 유지…'코로나發 경기침체 일시적'(종합)'</td>\n",
       "    </tr>\n",
       "    <tr>\n",
       "      <th>4</th>\n",
       "      <td>2020-04-21</td>\n",
       "      <td>/service/board/park/14885655?combine=true&amp;q=%E...</td>\n",
       "      <td>총선 기간 동안 받은 명함을 정리 해봤습니다</td>\n",
       "    </tr>\n",
       "  </tbody>\n",
       "</table>\n",
       "</div>"
      ],
      "text/plain": [
       "         date                                               link  \\\n",
       "0  2020-04-21  /service/board/park/14885680?combine=true&q=%E...   \n",
       "1  2020-04-21  /service/board/park/14885678?combine=true&q=%E...   \n",
       "2  2020-04-21  /service/board/park/14885671?combine=true&q=%E...   \n",
       "3  2020-04-21  /service/board/park/14885657?combine=true&q=%E...   \n",
       "4  2020-04-21  /service/board/park/14885655?combine=true&q=%E...   \n",
       "\n",
       "                                         title  \n",
       "0                     트럼프'원유 하락세는 아주 단기적인 것이다'  \n",
       "1     인니 대통령, 문대통령에 '총선 승리 축하. 코로나19 경험 전수 희망'  \n",
       "2                          ???: 야당도 사람인데... ?!  \n",
       "3  'S&P, 韓 국가신용등급 'AA' 유지…'코로나發 경기침체 일시적'(종합)'  \n",
       "4                     총선 기간 동안 받은 명함을 정리 해봤습니다  "
      ]
     },
     "execution_count": 4,
     "metadata": {},
     "output_type": "execute_result"
    }
   ],
   "source": [
    "data = pd.read_excel('./2020-4-21  19시 46분 40초 merging.xlsx')\n",
    "data.head(5)"
   ]
  },
  {
   "cell_type": "code",
   "execution_count": 5,
   "metadata": {},
   "outputs": [
    {
     "name": "stdout",
     "output_type": "stream",
     "text": [
      "0                             트럼프'원유 하락세는 아주 단기적인 것이다'\n",
      "1             인니 대통령, 문대통령에 '총선 승리 축하. 코로나19 경험 전수 희망'\n",
      "2                                  ???: 야당도 사람인데... ?!\n",
      "3          'S&P, 韓 국가신용등급 'AA' 유지…'코로나發 경기침체 일시적'(종합)'\n",
      "4                             총선 기간 동안 받은 명함을 정리 해봤습니다\n",
      "5                            일본 대피소 코로나19 대비 대책 도입.jpg\n",
      "6                                     일본의 코로나 대책.jpgif\n",
      "7                      '위안부 동상 철거하면 마스크 받아줄 수도 있어'.JPG\n",
      "8                                  포스코·세아 등 신용등급 전망 하향\n",
      "9                               아이맥 5k 레티나 주문 넣으려고 하는데\n",
      "10                       일본은 미국 다음의 코로나 중심지가 될 것 같습니다.\n",
      "11                          스웨덴이 공자학원을 (중국 문화원) 닫게한다네요\n",
      "12                                코로나19, 집단면역실험 망함 ㄷㄷㄷ\n",
      "13                    중고 bmw5 시리즈 10만km 넘으면 거르는게 나을까요?\n",
      "14                                    주식시장 외국인매도세..ㅎㅎㅎ\n",
      "15                                            코로나 검사..\n",
      "16                          성남시 코로나 사태 소상공인지원금 입금 되었네요\n",
      "17     [국제] 트럼프 '한국 방위비 제안 내가 거절, 더 큰 비율 지불해야' (종합:영상)\n",
      "18            필리핀 코로나19 검사소 직원 40명 확진..교도소 집단감염 속출(종합)\n",
      "19                                한겨레21 표지, 총선은 어디에???\n",
      "20                           뉴욕 -입원이 안돼 돌아다니다 죽은 코로나환자\n",
      "21                   대구시, `코로나19 상시 방역체제` 이끌 범시민대책위 출범\n",
      "22      '대구시의 코로나 감염증 대응은 아무도 가보지 않은 길을 개척해 나가는 일이었다.”\n",
      "23                                  국산 덴탈마스크도 많이 싸졌네요.\n",
      "24                         방통위 애널, 조선 재승인 여부 발표 늦어지네요.\n",
      "25     코로나19 질병관리 본부 통계 차트 [4/20 0시 기준] / #고마워요_질병관리본부\n",
      "26                  코로나 방역하랬더니 보조금만 꿀꺽?..서울 버스업체들 압수수색\n",
      "27             코로나를 거치면서 보니 김구선생님의 소원이 거의다 이루어져 가는것같네요\n",
      "28      이번 코로나 정부 대출 (초저금리) 받아보신 분 ~ 부동산 임대업도 신청가능한가요?\n",
      "29                                   혼다 오딧세이 6년 롱텀 시승기\n",
      "                            ...                       \n",
      "89                                    몹시 위험할거 같은 일본 기자\n",
      "90                                            입당신청합니다.\n",
      "91                            차기 대선은 이낙연 의원님 되리라 생각합니다\n",
      "92                     [속보] 트럼프 '한국의 코로나19 대응, 최상의 모범'\n",
      "93                                    흠 북에 무슨일이 생겼나...\n",
      "94                 난 살기 위해, 가족을 지키기 위해. 총선에 민주당을 찍었습니다\n",
      "95                         이젠 일본 언론인에게서 이런 발언까지도 나오는군요\n",
      "96                     오늘 보수꼴통 사장 농락하고 귀가했습니다. 아오~ 꼬소해\n",
      "97                             한미 정상통화 관련 청와대 서면브리핑 전문\n",
      "98        (장문) 이번 총선을 기점으로 우리나라 메인스트림이 완전히 교체되는 느낌입니다.\n",
      "99                                          일본의 현실.avi\n",
      "100                               갑자기 바게트 엄청 먹고 싶네요 ㅠㅡ\n",
      "101                   홍콩경찰, 반중국데모 일제적발 민주파간부등 15인체포...\n",
      "102                           투표를 안하는 세대를 위한 정책은 필요 없다\n",
      "103                              클리퍼(바리깡)도 비싼게 좋긴 하네요.\n",
      "104                       한국이 총선에 매몰된 동안 몇가지 흥미로운 세계뉴스\n",
      "105                            부산민심에 자꾸 가덕도 신공항 언급하는데요\n",
      "106                                          서울 근황.jpg\n",
      "107         文 '코로나 확진자 감소, 총선승리 큰 도움', 트럼프 '문 대통령의 승리'\n",
      "108                                  이루어질 수 없는 일본인의 바람\n",
      "109                                   몹시 위험할거 같은 일본 기자\n",
      "110                                           입당신청합니다.\n",
      "111                           차기 대선은 이낙연 의원님 되리라 생각합니다\n",
      "112                    [속보] 트럼프 '한국의 코로나19 대응, 최상의 모범'\n",
      "113                                   흠 북에 무슨일이 생겼나...\n",
      "114                난 살기 위해, 가족을 지키기 위해. 총선에 민주당을 찍었습니다\n",
      "115                        이젠 일본 언론인에게서 이런 발언까지도 나오는군요\n",
      "116                    오늘 보수꼴통 사장 농락하고 귀가했습니다. 아오~ 꼬소해\n",
      "117                            한미 정상통화 관련 청와대 서면브리핑 전문\n",
      "118       (장문) 이번 총선을 기점으로 우리나라 메인스트림이 완전히 교체되는 느낌입니다.\n",
      "Name: title, Length: 119, dtype: object\n"
     ]
    }
   ],
   "source": [
    "data = data[\"title\"]\n",
    "print(data)"
   ]
  },
  {
   "cell_type": "code",
   "execution_count": null,
   "metadata": {},
   "outputs": [],
   "source": []
  },
  {
   "cell_type": "code",
   "execution_count": null,
   "metadata": {},
   "outputs": [],
   "source": []
  }
 ],
 "metadata": {
  "kernelspec": {
   "display_name": "Python 3",
   "language": "python",
   "name": "python3"
  },
  "language_info": {
   "codemirror_mode": {
    "name": "ipython",
    "version": 3
   },
   "file_extension": ".py",
   "mimetype": "text/x-python",
   "name": "python",
   "nbconvert_exporter": "python",
   "pygments_lexer": "ipython3",
   "version": "3.7.8"
  }
 },
 "nbformat": 4,
 "nbformat_minor": 2
}
